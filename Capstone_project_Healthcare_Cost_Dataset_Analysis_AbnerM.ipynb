{
  "nbformat": 4,
  "nbformat_minor": 0,
  "metadata": {
    "colab": {
      "name": "Capstone project - Healthcare Cost Dataset Analysis -AbnerM.ipynb",
      "provenance": [],
      "collapsed_sections": []
    },
    "kernelspec": {
      "name": "python3",
      "display_name": "Python 3"
    },
    "language_info": {
      "name": "python"
    }
  },
  "cells": [
    {
      "cell_type": "markdown",
      "metadata": {
        "id": "tTdnaNdHHJqS"
      },
      "source": [
        "#CAPSTONE PROJECT - HEALTHCARE COST DATASET ANALYSIS"
      ]
    },
    {
      "cell_type": "markdown",
      "metadata": {
        "id": "PPgVNrImHZUT"
      },
      "source": [
        "###By Abner Misigina - July 2021"
      ]
    },
    {
      "cell_type": "markdown",
      "metadata": {
        "id": "ey6latq2TlJc"
      },
      "source": [
        "####**Importing Dataset and Python Environment Preparation**"
      ]
    },
    {
      "cell_type": "markdown",
      "metadata": {
        "id": "7tahMf0-5LBL"
      },
      "source": [
        "Connect with the google drive account to access the Healthcare cost dataset"
      ]
    },
    {
      "cell_type": "code",
      "metadata": {
        "colab": {
          "base_uri": "https://localhost:8080/"
        },
        "id": "dnYrK4Yt2uXX",
        "outputId": "1b1d431c-852e-417a-8016-309933b8028f"
      },
      "source": [
        "from google.colab import drive\n",
        "drive.mount('/content/gdrive') "
      ],
      "execution_count": null,
      "outputs": [
        {
          "output_type": "stream",
          "text": [
            "Mounted at /content/gdrive\n"
          ],
          "name": "stdout"
        }
      ]
    },
    {
      "cell_type": "markdown",
      "metadata": {
        "id": "R45FPFVj5vRU"
      },
      "source": [
        "Import libraries like pandas, numpy, scipy-stats, seaborn, and matplotlib so that we will use them through this data analysis project and importing the Hospital Costs cvs file from google drive."
      ]
    },
    {
      "cell_type": "code",
      "metadata": {
        "id": "i0wQhgel5v17"
      },
      "source": [
        "import pandas as pd\n",
        "import numpy as np \n",
        "from scipy import stats \n",
        "import seaborn as sns \n",
        "sns.set() \n",
        "import matplotlib.pyplot as plt \n",
        "from matplotlib.colors import ListedColormap"
      ],
      "execution_count": null,
      "outputs": []
    },
    {
      "cell_type": "code",
      "metadata": {
        "id": "owTDgvXdUDhX"
      },
      "source": [
        "df = pd.read_csv('gdrive/My Drive/python_for_data_analysts/HospitalCosts.csv')"
      ],
      "execution_count": null,
      "outputs": []
    },
    {
      "cell_type": "markdown",
      "metadata": {
        "id": "GL4q0zpt64Xu"
      },
      "source": [
        "####**Basic Dataframe Exploratory Data Analysis**"
      ]
    },
    {
      "cell_type": "markdown",
      "metadata": {
        "id": "fayi-8V9U0cW"
      },
      "source": [
        "We are going to start with basic exploratory analysis."
      ]
    },
    {
      "cell_type": "code",
      "metadata": {
        "colab": {
          "base_uri": "https://localhost:8080/"
        },
        "id": "MRTDh9vugq8Y",
        "outputId": "71f8a268-4652-47c2-b1e3-bae6e3488c3e"
      },
      "source": [
        "df.shape"
      ],
      "execution_count": null,
      "outputs": [
        {
          "output_type": "execute_result",
          "data": {
            "text/plain": [
              "(500, 6)"
            ]
          },
          "metadata": {
            "tags": []
          },
          "execution_count": 4
        }
      ]
    },
    {
      "cell_type": "code",
      "metadata": {
        "colab": {
          "base_uri": "https://localhost:8080/"
        },
        "id": "qLdjpn4Yl5ev",
        "outputId": "40582771-c254-4d13-dac4-4d0b059e571e"
      },
      "source": [
        "df.columns"
      ],
      "execution_count": null,
      "outputs": [
        {
          "output_type": "execute_result",
          "data": {
            "text/plain": [
              "Index(['AGE', 'FEMALE', 'LOS', 'RACE', 'TOTCHG', 'APRDRG'], dtype='object')"
            ]
          },
          "metadata": {
            "tags": []
          },
          "execution_count": 5
        }
      ]
    },
    {
      "cell_type": "markdown",
      "metadata": {
        "id": "HgtXgUV2Ez5c"
      },
      "source": [
        "As shown in the results above, the dataframe 'df' has 500 observations and 6 variables. The columns or variables are Age, Female(or Gender coded as 1=Female and 0=Male), LOS=Length of Stay, Race(presented numerically as 1=White, 2=Black, 3=Hispanic, 4=Asian or Pacific, 5=Native American and 6=Other (reference: https://www.hcup-us.ahrq.gov/db/vars/siddistnote.jsp?var=race)), TOTCHG=Total Charge and APRDRG=All Patient Refined Diagnosis Related Group. \n",
        "\n",
        "There is only one missing value in the Race variable. All of the variables except Race (that is a float) are integers."
      ]
    },
    {
      "cell_type": "code",
      "metadata": {
        "colab": {
          "base_uri": "https://localhost:8080/"
        },
        "id": "tdGMpxzB6zs2",
        "outputId": "bd57c964-3bdf-4ded-8498-03093f304398"
      },
      "source": [
        "df.info()"
      ],
      "execution_count": null,
      "outputs": [
        {
          "output_type": "stream",
          "text": [
            "<class 'pandas.core.frame.DataFrame'>\n",
            "RangeIndex: 500 entries, 0 to 499\n",
            "Data columns (total 6 columns):\n",
            " #   Column  Non-Null Count  Dtype  \n",
            "---  ------  --------------  -----  \n",
            " 0   AGE     500 non-null    int64  \n",
            " 1   FEMALE  500 non-null    int64  \n",
            " 2   LOS     500 non-null    int64  \n",
            " 3   RACE    499 non-null    float64\n",
            " 4   TOTCHG  500 non-null    int64  \n",
            " 5   APRDRG  500 non-null    int64  \n",
            "dtypes: float64(1), int64(5)\n",
            "memory usage: 23.6 KB\n"
          ],
          "name": "stdout"
        }
      ]
    },
    {
      "cell_type": "code",
      "metadata": {
        "colab": {
          "base_uri": "https://localhost:8080/"
        },
        "id": "uOuzP0r0gdm1",
        "outputId": "2a28af9d-64b7-4b1c-889e-6e5a341d034c"
      },
      "source": [
        "df.isna().any()"
      ],
      "execution_count": null,
      "outputs": [
        {
          "output_type": "execute_result",
          "data": {
            "text/plain": [
              "AGE       False\n",
              "FEMALE    False\n",
              "LOS       False\n",
              "RACE       True\n",
              "TOTCHG    False\n",
              "APRDRG    False\n",
              "dtype: bool"
            ]
          },
          "metadata": {
            "tags": []
          },
          "execution_count": 7
        }
      ]
    },
    {
      "cell_type": "markdown",
      "metadata": {
        "id": "dYQdq8AYIreT"
      },
      "source": [
        "So to manage the missing value in the RACE variable, we will use the \"dropna\" syntax as follows, and we will save the new dataframe by a name \"df_filtered\"."
      ]
    },
    {
      "cell_type": "code",
      "metadata": {
        "colab": {
          "base_uri": "https://localhost:8080/"
        },
        "id": "o0mVVLIsg8Ty",
        "outputId": "42d17843-40bd-43cb-de34-b8b0c267711b"
      },
      "source": [
        "df_filtered = df.dropna()\n",
        "df_filtered.info()"
      ],
      "execution_count": null,
      "outputs": [
        {
          "output_type": "stream",
          "text": [
            "<class 'pandas.core.frame.DataFrame'>\n",
            "Int64Index: 499 entries, 0 to 499\n",
            "Data columns (total 6 columns):\n",
            " #   Column  Non-Null Count  Dtype  \n",
            "---  ------  --------------  -----  \n",
            " 0   AGE     499 non-null    int64  \n",
            " 1   FEMALE  499 non-null    int64  \n",
            " 2   LOS     499 non-null    int64  \n",
            " 3   RACE    499 non-null    float64\n",
            " 4   TOTCHG  499 non-null    int64  \n",
            " 5   APRDRG  499 non-null    int64  \n",
            "dtypes: float64(1), int64(5)\n",
            "memory usage: 27.3 KB\n"
          ],
          "name": "stdout"
        }
      ]
    },
    {
      "cell_type": "markdown",
      "metadata": {
        "id": "SpZ8ii7RJV1F"
      },
      "source": [
        "We will create a new variable, named \"AVGCHG=Average Charge\", that will be calculated by dividing TOTCHG=Total Charge to LOS=Length Of Stay. Taking the average charge would enable us a fair comparison for all lengths of stay in the hospital. This will be our dependent variable for this data analysis project."
      ]
    },
    {
      "cell_type": "code",
      "metadata": {
        "id": "N1CO_uM0_7MJ"
      },
      "source": [
        "df_filtered = df_filtered.assign(AVGCHG = df_filtered.TOTCHG / df_filtered.LOS)"
      ],
      "execution_count": null,
      "outputs": []
    },
    {
      "cell_type": "code",
      "metadata": {
        "colab": {
          "base_uri": "https://localhost:8080/",
          "height": 355
        },
        "id": "LYSOlXuu4O5c",
        "outputId": "7e763c93-600e-447d-ca8e-30fe6a9f3208"
      },
      "source": [
        "df_filtered.head(10)"
      ],
      "execution_count": null,
      "outputs": [
        {
          "output_type": "execute_result",
          "data": {
            "text/html": [
              "<div>\n",
              "<style scoped>\n",
              "    .dataframe tbody tr th:only-of-type {\n",
              "        vertical-align: middle;\n",
              "    }\n",
              "\n",
              "    .dataframe tbody tr th {\n",
              "        vertical-align: top;\n",
              "    }\n",
              "\n",
              "    .dataframe thead th {\n",
              "        text-align: right;\n",
              "    }\n",
              "</style>\n",
              "<table border=\"1\" class=\"dataframe\">\n",
              "  <thead>\n",
              "    <tr style=\"text-align: right;\">\n",
              "      <th></th>\n",
              "      <th>AGE</th>\n",
              "      <th>FEMALE</th>\n",
              "      <th>LOS</th>\n",
              "      <th>RACE</th>\n",
              "      <th>TOTCHG</th>\n",
              "      <th>APRDRG</th>\n",
              "      <th>AVGCHG</th>\n",
              "    </tr>\n",
              "  </thead>\n",
              "  <tbody>\n",
              "    <tr>\n",
              "      <th>0</th>\n",
              "      <td>17</td>\n",
              "      <td>1</td>\n",
              "      <td>2</td>\n",
              "      <td>1.0</td>\n",
              "      <td>2660</td>\n",
              "      <td>560</td>\n",
              "      <td>1330.000000</td>\n",
              "    </tr>\n",
              "    <tr>\n",
              "      <th>1</th>\n",
              "      <td>17</td>\n",
              "      <td>0</td>\n",
              "      <td>2</td>\n",
              "      <td>1.0</td>\n",
              "      <td>1689</td>\n",
              "      <td>753</td>\n",
              "      <td>844.500000</td>\n",
              "    </tr>\n",
              "    <tr>\n",
              "      <th>2</th>\n",
              "      <td>17</td>\n",
              "      <td>1</td>\n",
              "      <td>7</td>\n",
              "      <td>1.0</td>\n",
              "      <td>20060</td>\n",
              "      <td>930</td>\n",
              "      <td>2865.714286</td>\n",
              "    </tr>\n",
              "    <tr>\n",
              "      <th>3</th>\n",
              "      <td>17</td>\n",
              "      <td>1</td>\n",
              "      <td>1</td>\n",
              "      <td>1.0</td>\n",
              "      <td>736</td>\n",
              "      <td>758</td>\n",
              "      <td>736.000000</td>\n",
              "    </tr>\n",
              "    <tr>\n",
              "      <th>4</th>\n",
              "      <td>17</td>\n",
              "      <td>1</td>\n",
              "      <td>1</td>\n",
              "      <td>1.0</td>\n",
              "      <td>1194</td>\n",
              "      <td>754</td>\n",
              "      <td>1194.000000</td>\n",
              "    </tr>\n",
              "    <tr>\n",
              "      <th>5</th>\n",
              "      <td>17</td>\n",
              "      <td>0</td>\n",
              "      <td>0</td>\n",
              "      <td>1.0</td>\n",
              "      <td>3305</td>\n",
              "      <td>347</td>\n",
              "      <td>inf</td>\n",
              "    </tr>\n",
              "    <tr>\n",
              "      <th>6</th>\n",
              "      <td>17</td>\n",
              "      <td>1</td>\n",
              "      <td>4</td>\n",
              "      <td>1.0</td>\n",
              "      <td>2205</td>\n",
              "      <td>754</td>\n",
              "      <td>551.250000</td>\n",
              "    </tr>\n",
              "    <tr>\n",
              "      <th>7</th>\n",
              "      <td>16</td>\n",
              "      <td>1</td>\n",
              "      <td>2</td>\n",
              "      <td>1.0</td>\n",
              "      <td>1167</td>\n",
              "      <td>754</td>\n",
              "      <td>583.500000</td>\n",
              "    </tr>\n",
              "    <tr>\n",
              "      <th>8</th>\n",
              "      <td>16</td>\n",
              "      <td>1</td>\n",
              "      <td>1</td>\n",
              "      <td>1.0</td>\n",
              "      <td>532</td>\n",
              "      <td>753</td>\n",
              "      <td>532.000000</td>\n",
              "    </tr>\n",
              "    <tr>\n",
              "      <th>9</th>\n",
              "      <td>17</td>\n",
              "      <td>1</td>\n",
              "      <td>2</td>\n",
              "      <td>1.0</td>\n",
              "      <td>1363</td>\n",
              "      <td>758</td>\n",
              "      <td>681.500000</td>\n",
              "    </tr>\n",
              "  </tbody>\n",
              "</table>\n",
              "</div>"
            ],
            "text/plain": [
              "   AGE  FEMALE  LOS  RACE  TOTCHG  APRDRG       AVGCHG\n",
              "0   17       1    2   1.0    2660     560  1330.000000\n",
              "1   17       0    2   1.0    1689     753   844.500000\n",
              "2   17       1    7   1.0   20060     930  2865.714286\n",
              "3   17       1    1   1.0     736     758   736.000000\n",
              "4   17       1    1   1.0    1194     754  1194.000000\n",
              "5   17       0    0   1.0    3305     347          inf\n",
              "6   17       1    4   1.0    2205     754   551.250000\n",
              "7   16       1    2   1.0    1167     754   583.500000\n",
              "8   16       1    1   1.0     532     753   532.000000\n",
              "9   17       1    2   1.0    1363     758   681.500000"
            ]
          },
          "metadata": {
            "tags": []
          },
          "execution_count": 10
        }
      ]
    },
    {
      "cell_type": "code",
      "metadata": {
        "colab": {
          "base_uri": "https://localhost:8080/"
        },
        "id": "VfNQKp541Csg",
        "outputId": "1d3805ad-6e2f-4dc4-a4f5-76f639b94886"
      },
      "source": [
        "df_filtered['AVGCHG'].value_counts()"
      ],
      "execution_count": null,
      "outputs": [
        {
          "output_type": "execute_result",
          "data": {
            "text/plain": [
              "inf       15\n",
              "548.0      9\n",
              "640.0      4\n",
              "578.0      4\n",
              "549.5      3\n",
              "          ..\n",
              "750.5      1\n",
              "935.0      1\n",
              "593.0      1\n",
              "731.5      1\n",
              "1330.0     1\n",
              "Name: AVGCHG, Length: 417, dtype: int64"
            ]
          },
          "metadata": {
            "tags": []
          },
          "execution_count": 11
        }
      ]
    },
    {
      "cell_type": "markdown",
      "metadata": {
        "id": "W2x2bNVjXgbN"
      },
      "source": [
        "However, as presented above in the table, we have got \"inf\" result, because we are dividing by LOS = 0. This can be adjusted by taking the TOTCHG=Total Charge for the day, even if the LOS=Length of Stay is 0 days. The patient has already come to the hospital and paid the TOTCHG fee. Therefore this could be taken as a 1 day payment of services. We will use the following codes to fix this."
      ]
    },
    {
      "cell_type": "code",
      "metadata": {
        "colab": {
          "base_uri": "https://localhost:8080/",
          "height": 355
        },
        "id": "rvDHOT4QeamD",
        "outputId": "eb4a2bc1-307e-4ea8-a3ae-eac75a65ae3f"
      },
      "source": [
        "def cost_change(c): \n",
        "  if c['LOS'] == 0: \n",
        "    return c['TOTCHG'] \n",
        "  else: \n",
        "    return c['TOTCHG']/c['LOS'] \n",
        "\n",
        "df_filtered['AVGCHG'] = df_filtered.apply(cost_change, axis=1) \n",
        "df_filtered.head(10)"
      ],
      "execution_count": null,
      "outputs": [
        {
          "output_type": "execute_result",
          "data": {
            "text/html": [
              "<div>\n",
              "<style scoped>\n",
              "    .dataframe tbody tr th:only-of-type {\n",
              "        vertical-align: middle;\n",
              "    }\n",
              "\n",
              "    .dataframe tbody tr th {\n",
              "        vertical-align: top;\n",
              "    }\n",
              "\n",
              "    .dataframe thead th {\n",
              "        text-align: right;\n",
              "    }\n",
              "</style>\n",
              "<table border=\"1\" class=\"dataframe\">\n",
              "  <thead>\n",
              "    <tr style=\"text-align: right;\">\n",
              "      <th></th>\n",
              "      <th>AGE</th>\n",
              "      <th>FEMALE</th>\n",
              "      <th>LOS</th>\n",
              "      <th>RACE</th>\n",
              "      <th>TOTCHG</th>\n",
              "      <th>APRDRG</th>\n",
              "      <th>AVGCHG</th>\n",
              "    </tr>\n",
              "  </thead>\n",
              "  <tbody>\n",
              "    <tr>\n",
              "      <th>0</th>\n",
              "      <td>17</td>\n",
              "      <td>1</td>\n",
              "      <td>2</td>\n",
              "      <td>1.0</td>\n",
              "      <td>2660</td>\n",
              "      <td>560</td>\n",
              "      <td>1330.000000</td>\n",
              "    </tr>\n",
              "    <tr>\n",
              "      <th>1</th>\n",
              "      <td>17</td>\n",
              "      <td>0</td>\n",
              "      <td>2</td>\n",
              "      <td>1.0</td>\n",
              "      <td>1689</td>\n",
              "      <td>753</td>\n",
              "      <td>844.500000</td>\n",
              "    </tr>\n",
              "    <tr>\n",
              "      <th>2</th>\n",
              "      <td>17</td>\n",
              "      <td>1</td>\n",
              "      <td>7</td>\n",
              "      <td>1.0</td>\n",
              "      <td>20060</td>\n",
              "      <td>930</td>\n",
              "      <td>2865.714286</td>\n",
              "    </tr>\n",
              "    <tr>\n",
              "      <th>3</th>\n",
              "      <td>17</td>\n",
              "      <td>1</td>\n",
              "      <td>1</td>\n",
              "      <td>1.0</td>\n",
              "      <td>736</td>\n",
              "      <td>758</td>\n",
              "      <td>736.000000</td>\n",
              "    </tr>\n",
              "    <tr>\n",
              "      <th>4</th>\n",
              "      <td>17</td>\n",
              "      <td>1</td>\n",
              "      <td>1</td>\n",
              "      <td>1.0</td>\n",
              "      <td>1194</td>\n",
              "      <td>754</td>\n",
              "      <td>1194.000000</td>\n",
              "    </tr>\n",
              "    <tr>\n",
              "      <th>5</th>\n",
              "      <td>17</td>\n",
              "      <td>0</td>\n",
              "      <td>0</td>\n",
              "      <td>1.0</td>\n",
              "      <td>3305</td>\n",
              "      <td>347</td>\n",
              "      <td>3305.000000</td>\n",
              "    </tr>\n",
              "    <tr>\n",
              "      <th>6</th>\n",
              "      <td>17</td>\n",
              "      <td>1</td>\n",
              "      <td>4</td>\n",
              "      <td>1.0</td>\n",
              "      <td>2205</td>\n",
              "      <td>754</td>\n",
              "      <td>551.250000</td>\n",
              "    </tr>\n",
              "    <tr>\n",
              "      <th>7</th>\n",
              "      <td>16</td>\n",
              "      <td>1</td>\n",
              "      <td>2</td>\n",
              "      <td>1.0</td>\n",
              "      <td>1167</td>\n",
              "      <td>754</td>\n",
              "      <td>583.500000</td>\n",
              "    </tr>\n",
              "    <tr>\n",
              "      <th>8</th>\n",
              "      <td>16</td>\n",
              "      <td>1</td>\n",
              "      <td>1</td>\n",
              "      <td>1.0</td>\n",
              "      <td>532</td>\n",
              "      <td>753</td>\n",
              "      <td>532.000000</td>\n",
              "    </tr>\n",
              "    <tr>\n",
              "      <th>9</th>\n",
              "      <td>17</td>\n",
              "      <td>1</td>\n",
              "      <td>2</td>\n",
              "      <td>1.0</td>\n",
              "      <td>1363</td>\n",
              "      <td>758</td>\n",
              "      <td>681.500000</td>\n",
              "    </tr>\n",
              "  </tbody>\n",
              "</table>\n",
              "</div>"
            ],
            "text/plain": [
              "   AGE  FEMALE  LOS  RACE  TOTCHG  APRDRG       AVGCHG\n",
              "0   17       1    2   1.0    2660     560  1330.000000\n",
              "1   17       0    2   1.0    1689     753   844.500000\n",
              "2   17       1    7   1.0   20060     930  2865.714286\n",
              "3   17       1    1   1.0     736     758   736.000000\n",
              "4   17       1    1   1.0    1194     754  1194.000000\n",
              "5   17       0    0   1.0    3305     347  3305.000000\n",
              "6   17       1    4   1.0    2205     754   551.250000\n",
              "7   16       1    2   1.0    1167     754   583.500000\n",
              "8   16       1    1   1.0     532     753   532.000000\n",
              "9   17       1    2   1.0    1363     758   681.500000"
            ]
          },
          "metadata": {
            "tags": []
          },
          "execution_count": 12
        }
      ]
    },
    {
      "cell_type": "markdown",
      "metadata": {
        "id": "3HQQvV39YuHj"
      },
      "source": [
        "As presented above in the table on record number 5, even if the LOS = 0, the AVRCHG=Average Charge is now equal to TOTCHG=Total Charge. \n",
        "We can see below that the dataframe is clean, it has no missing values and we have added one more variable, that is the AVGCHG=Average Charge."
      ]
    },
    {
      "cell_type": "code",
      "metadata": {
        "colab": {
          "base_uri": "https://localhost:8080/"
        },
        "id": "3B_6eR1EKrne",
        "outputId": "4c9fa533-2b0b-4bca-aefe-87cea76e1f35"
      },
      "source": [
        "df_filtered['AVGCHG'].value_counts()"
      ],
      "execution_count": null,
      "outputs": [
        {
          "output_type": "execute_result",
          "data": {
            "text/plain": [
              "548.0     9\n",
              "607.0     5\n",
              "578.0     4\n",
              "640.0     4\n",
              "622.0     4\n",
              "         ..\n",
              "573.0     1\n",
              "618.5     1\n",
              "775.0     1\n",
              "731.5     1\n",
              "1330.0    1\n",
              "Name: AVGCHG, Length: 425, dtype: int64"
            ]
          },
          "metadata": {
            "tags": []
          },
          "execution_count": 13
        }
      ]
    },
    {
      "cell_type": "code",
      "metadata": {
        "colab": {
          "base_uri": "https://localhost:8080/"
        },
        "id": "DN0u0WTtZgXC",
        "outputId": "1b193554-4d47-43da-b73c-787ec3f2b0d1"
      },
      "source": [
        "df_filtered.info()"
      ],
      "execution_count": null,
      "outputs": [
        {
          "output_type": "stream",
          "text": [
            "<class 'pandas.core.frame.DataFrame'>\n",
            "Int64Index: 499 entries, 0 to 499\n",
            "Data columns (total 7 columns):\n",
            " #   Column  Non-Null Count  Dtype  \n",
            "---  ------  --------------  -----  \n",
            " 0   AGE     499 non-null    int64  \n",
            " 1   FEMALE  499 non-null    int64  \n",
            " 2   LOS     499 non-null    int64  \n",
            " 3   RACE    499 non-null    float64\n",
            " 4   TOTCHG  499 non-null    int64  \n",
            " 5   APRDRG  499 non-null    int64  \n",
            " 6   AVGCHG  499 non-null    float64\n",
            "dtypes: float64(2), int64(5)\n",
            "memory usage: 31.2 KB\n"
          ],
          "name": "stdout"
        }
      ]
    },
    {
      "cell_type": "markdown",
      "metadata": {
        "id": "yfIzG-u2Z_H6"
      },
      "source": [
        "The gender variable we have in the data set is \"FEMALE\" and it is coded as 1=Female and 0=Male. We need to give names to the codes, so that it will be easier to identify on charts and other analysis. As presented in the frequency of females and males, they are equaly distributed."
      ]
    },
    {
      "cell_type": "code",
      "metadata": {
        "colab": {
          "base_uri": "https://localhost:8080/"
        },
        "id": "avH9Sz3xKtzA",
        "outputId": "593560ce-8432-4233-e055-790f2573d553"
      },
      "source": [
        "df_filtered['FEMALE'].nunique()\n",
        "df_filtered['FEMALE'].value_counts()"
      ],
      "execution_count": null,
      "outputs": [
        {
          "output_type": "execute_result",
          "data": {
            "text/plain": [
              "1    255\n",
              "0    244\n",
              "Name: FEMALE, dtype: int64"
            ]
          },
          "metadata": {
            "tags": []
          },
          "execution_count": 15
        }
      ]
    },
    {
      "cell_type": "code",
      "metadata": {
        "id": "Sex5M8h8pZtK"
      },
      "source": [
        "def gender_recode(gender_code):\n",
        "  if gender_code == 1:\n",
        "    return 'Female' \n",
        "  else: \n",
        "    return 'Male'\n",
        "df_filtered['GENDER'] = df_filtered['FEMALE'].apply(gender_recode)"
      ],
      "execution_count": null,
      "outputs": []
    },
    {
      "cell_type": "markdown",
      "metadata": {
        "id": "qqpWdzy-bRhx"
      },
      "source": [
        "And the \"RACE\" variable is also coded in numbers. It would be easily understood if we recode them with their names as follows. And based on their frequency, RACE=1, that is White, is 484, taking 97% of the sample population."
      ]
    },
    {
      "cell_type": "code",
      "metadata": {
        "colab": {
          "base_uri": "https://localhost:8080/"
        },
        "id": "0xaW_hZ1ycPO",
        "outputId": "020f3f8b-1582-4e1f-c1ee-5cf64051ce27"
      },
      "source": [
        "df_filtered['RACE'].nunique()\n",
        "df_filtered['RACE'].value_counts()"
      ],
      "execution_count": null,
      "outputs": [
        {
          "output_type": "execute_result",
          "data": {
            "text/plain": [
              "1.0    484\n",
              "2.0      6\n",
              "5.0      3\n",
              "4.0      3\n",
              "6.0      2\n",
              "3.0      1\n",
              "Name: RACE, dtype: int64"
            ]
          },
          "metadata": {
            "tags": []
          },
          "execution_count": 17
        }
      ]
    },
    {
      "cell_type": "code",
      "metadata": {
        "id": "k2cAsAjxvoGW"
      },
      "source": [
        "def race_recode(race_code): \n",
        "  if race_code == 1: \n",
        "    return 'White' \n",
        "  elif race_code == 2: \n",
        "    return 'Black' \n",
        "  elif race_code == 3: \n",
        "    return 'Hispanic' \n",
        "  elif race_code == 4: \n",
        "    return 'Asian or Pacific Islander' \n",
        "  elif race_code == 5: \n",
        "    return 'Native American' \n",
        "  else: \n",
        "    return 'Other' \n",
        "df_filtered['RACE_NAME'] = df_filtered['RACE'].apply(race_recode)"
      ],
      "execution_count": null,
      "outputs": []
    },
    {
      "cell_type": "markdown",
      "metadata": {
        "id": "hIQE0_T4c8Au"
      },
      "source": [
        "We can see below that our df_filtered dataframe is getting bigger with the addition of \"GENDER\" and \"RACE_NAME\" columns."
      ]
    },
    {
      "cell_type": "code",
      "metadata": {
        "colab": {
          "base_uri": "https://localhost:8080/",
          "height": 355
        },
        "id": "U6gE8Y95rKXc",
        "outputId": "f00050ac-2fef-4d74-9a70-5061ee662791"
      },
      "source": [
        "df_filtered.head(10)"
      ],
      "execution_count": null,
      "outputs": [
        {
          "output_type": "execute_result",
          "data": {
            "text/html": [
              "<div>\n",
              "<style scoped>\n",
              "    .dataframe tbody tr th:only-of-type {\n",
              "        vertical-align: middle;\n",
              "    }\n",
              "\n",
              "    .dataframe tbody tr th {\n",
              "        vertical-align: top;\n",
              "    }\n",
              "\n",
              "    .dataframe thead th {\n",
              "        text-align: right;\n",
              "    }\n",
              "</style>\n",
              "<table border=\"1\" class=\"dataframe\">\n",
              "  <thead>\n",
              "    <tr style=\"text-align: right;\">\n",
              "      <th></th>\n",
              "      <th>AGE</th>\n",
              "      <th>FEMALE</th>\n",
              "      <th>LOS</th>\n",
              "      <th>RACE</th>\n",
              "      <th>TOTCHG</th>\n",
              "      <th>APRDRG</th>\n",
              "      <th>AVGCHG</th>\n",
              "      <th>GENDER</th>\n",
              "      <th>RACE_NAME</th>\n",
              "    </tr>\n",
              "  </thead>\n",
              "  <tbody>\n",
              "    <tr>\n",
              "      <th>0</th>\n",
              "      <td>17</td>\n",
              "      <td>1</td>\n",
              "      <td>2</td>\n",
              "      <td>1.0</td>\n",
              "      <td>2660</td>\n",
              "      <td>560</td>\n",
              "      <td>1330.000000</td>\n",
              "      <td>Female</td>\n",
              "      <td>White</td>\n",
              "    </tr>\n",
              "    <tr>\n",
              "      <th>1</th>\n",
              "      <td>17</td>\n",
              "      <td>0</td>\n",
              "      <td>2</td>\n",
              "      <td>1.0</td>\n",
              "      <td>1689</td>\n",
              "      <td>753</td>\n",
              "      <td>844.500000</td>\n",
              "      <td>Male</td>\n",
              "      <td>White</td>\n",
              "    </tr>\n",
              "    <tr>\n",
              "      <th>2</th>\n",
              "      <td>17</td>\n",
              "      <td>1</td>\n",
              "      <td>7</td>\n",
              "      <td>1.0</td>\n",
              "      <td>20060</td>\n",
              "      <td>930</td>\n",
              "      <td>2865.714286</td>\n",
              "      <td>Female</td>\n",
              "      <td>White</td>\n",
              "    </tr>\n",
              "    <tr>\n",
              "      <th>3</th>\n",
              "      <td>17</td>\n",
              "      <td>1</td>\n",
              "      <td>1</td>\n",
              "      <td>1.0</td>\n",
              "      <td>736</td>\n",
              "      <td>758</td>\n",
              "      <td>736.000000</td>\n",
              "      <td>Female</td>\n",
              "      <td>White</td>\n",
              "    </tr>\n",
              "    <tr>\n",
              "      <th>4</th>\n",
              "      <td>17</td>\n",
              "      <td>1</td>\n",
              "      <td>1</td>\n",
              "      <td>1.0</td>\n",
              "      <td>1194</td>\n",
              "      <td>754</td>\n",
              "      <td>1194.000000</td>\n",
              "      <td>Female</td>\n",
              "      <td>White</td>\n",
              "    </tr>\n",
              "    <tr>\n",
              "      <th>5</th>\n",
              "      <td>17</td>\n",
              "      <td>0</td>\n",
              "      <td>0</td>\n",
              "      <td>1.0</td>\n",
              "      <td>3305</td>\n",
              "      <td>347</td>\n",
              "      <td>3305.000000</td>\n",
              "      <td>Male</td>\n",
              "      <td>White</td>\n",
              "    </tr>\n",
              "    <tr>\n",
              "      <th>6</th>\n",
              "      <td>17</td>\n",
              "      <td>1</td>\n",
              "      <td>4</td>\n",
              "      <td>1.0</td>\n",
              "      <td>2205</td>\n",
              "      <td>754</td>\n",
              "      <td>551.250000</td>\n",
              "      <td>Female</td>\n",
              "      <td>White</td>\n",
              "    </tr>\n",
              "    <tr>\n",
              "      <th>7</th>\n",
              "      <td>16</td>\n",
              "      <td>1</td>\n",
              "      <td>2</td>\n",
              "      <td>1.0</td>\n",
              "      <td>1167</td>\n",
              "      <td>754</td>\n",
              "      <td>583.500000</td>\n",
              "      <td>Female</td>\n",
              "      <td>White</td>\n",
              "    </tr>\n",
              "    <tr>\n",
              "      <th>8</th>\n",
              "      <td>16</td>\n",
              "      <td>1</td>\n",
              "      <td>1</td>\n",
              "      <td>1.0</td>\n",
              "      <td>532</td>\n",
              "      <td>753</td>\n",
              "      <td>532.000000</td>\n",
              "      <td>Female</td>\n",
              "      <td>White</td>\n",
              "    </tr>\n",
              "    <tr>\n",
              "      <th>9</th>\n",
              "      <td>17</td>\n",
              "      <td>1</td>\n",
              "      <td>2</td>\n",
              "      <td>1.0</td>\n",
              "      <td>1363</td>\n",
              "      <td>758</td>\n",
              "      <td>681.500000</td>\n",
              "      <td>Female</td>\n",
              "      <td>White</td>\n",
              "    </tr>\n",
              "  </tbody>\n",
              "</table>\n",
              "</div>"
            ],
            "text/plain": [
              "   AGE  FEMALE  LOS  RACE  TOTCHG  APRDRG       AVGCHG  GENDER RACE_NAME\n",
              "0   17       1    2   1.0    2660     560  1330.000000  Female     White\n",
              "1   17       0    2   1.0    1689     753   844.500000    Male     White\n",
              "2   17       1    7   1.0   20060     930  2865.714286  Female     White\n",
              "3   17       1    1   1.0     736     758   736.000000  Female     White\n",
              "4   17       1    1   1.0    1194     754  1194.000000  Female     White\n",
              "5   17       0    0   1.0    3305     347  3305.000000    Male     White\n",
              "6   17       1    4   1.0    2205     754   551.250000  Female     White\n",
              "7   16       1    2   1.0    1167     754   583.500000  Female     White\n",
              "8   16       1    1   1.0     532     753   532.000000  Female     White\n",
              "9   17       1    2   1.0    1363     758   681.500000  Female     White"
            ]
          },
          "metadata": {
            "tags": []
          },
          "execution_count": 19
        }
      ]
    },
    {
      "cell_type": "markdown",
      "metadata": {
        "id": "RwYV-203dNfV"
      },
      "source": [
        "####**Descriptive Statistics Data Analysis**"
      ]
    },
    {
      "cell_type": "markdown",
      "metadata": {
        "id": "gx47V3EKdY9x"
      },
      "source": [
        "We will continue the data analysis by conducting Descriptive data analysis, by calculating means, standard deviations, minimum, maximum and quartiles. This will be done on our numeric variables like \"Age\", \"Length Of Stay\", \"Total Charge\" and \"Average Charge\". This is presented as follows."
      ]
    },
    {
      "cell_type": "code",
      "metadata": {
        "colab": {
          "base_uri": "https://localhost:8080/",
          "height": 294
        },
        "id": "A_hIkERdQsQy",
        "outputId": "6422cf69-7da7-4ea5-e95b-d1a20dd1db6b"
      },
      "source": [
        "df_filtered[['AGE', 'LOS', 'TOTCHG', 'AVGCHG']].describe()"
      ],
      "execution_count": null,
      "outputs": [
        {
          "output_type": "execute_result",
          "data": {
            "text/html": [
              "<div>\n",
              "<style scoped>\n",
              "    .dataframe tbody tr th:only-of-type {\n",
              "        vertical-align: middle;\n",
              "    }\n",
              "\n",
              "    .dataframe tbody tr th {\n",
              "        vertical-align: top;\n",
              "    }\n",
              "\n",
              "    .dataframe thead th {\n",
              "        text-align: right;\n",
              "    }\n",
              "</style>\n",
              "<table border=\"1\" class=\"dataframe\">\n",
              "  <thead>\n",
              "    <tr style=\"text-align: right;\">\n",
              "      <th></th>\n",
              "      <th>AGE</th>\n",
              "      <th>LOS</th>\n",
              "      <th>TOTCHG</th>\n",
              "      <th>AVGCHG</th>\n",
              "    </tr>\n",
              "  </thead>\n",
              "  <tbody>\n",
              "    <tr>\n",
              "      <th>count</th>\n",
              "      <td>499.000000</td>\n",
              "      <td>499.000000</td>\n",
              "      <td>499.000000</td>\n",
              "      <td>499.000000</td>\n",
              "    </tr>\n",
              "    <tr>\n",
              "      <th>mean</th>\n",
              "      <td>5.096192</td>\n",
              "      <td>2.829659</td>\n",
              "      <td>2777.631263</td>\n",
              "      <td>1074.700809</td>\n",
              "    </tr>\n",
              "    <tr>\n",
              "      <th>std</th>\n",
              "      <td>6.952706</td>\n",
              "      <td>3.366657</td>\n",
              "      <td>3891.632405</td>\n",
              "      <td>1240.234828</td>\n",
              "    </tr>\n",
              "    <tr>\n",
              "      <th>min</th>\n",
              "      <td>0.000000</td>\n",
              "      <td>0.000000</td>\n",
              "      <td>532.000000</td>\n",
              "      <td>438.500000</td>\n",
              "    </tr>\n",
              "    <tr>\n",
              "      <th>25%</th>\n",
              "      <td>0.000000</td>\n",
              "      <td>2.000000</td>\n",
              "      <td>1218.500000</td>\n",
              "      <td>601.500000</td>\n",
              "    </tr>\n",
              "    <tr>\n",
              "      <th>50%</th>\n",
              "      <td>0.000000</td>\n",
              "      <td>2.000000</td>\n",
              "      <td>1538.000000</td>\n",
              "      <td>667.500000</td>\n",
              "    </tr>\n",
              "    <tr>\n",
              "      <th>75%</th>\n",
              "      <td>13.000000</td>\n",
              "      <td>3.000000</td>\n",
              "      <td>2530.500000</td>\n",
              "      <td>864.900000</td>\n",
              "    </tr>\n",
              "    <tr>\n",
              "      <th>max</th>\n",
              "      <td>17.000000</td>\n",
              "      <td>41.000000</td>\n",
              "      <td>48388.000000</td>\n",
              "      <td>12024.000000</td>\n",
              "    </tr>\n",
              "  </tbody>\n",
              "</table>\n",
              "</div>"
            ],
            "text/plain": [
              "              AGE         LOS        TOTCHG        AVGCHG\n",
              "count  499.000000  499.000000    499.000000    499.000000\n",
              "mean     5.096192    2.829659   2777.631263   1074.700809\n",
              "std      6.952706    3.366657   3891.632405   1240.234828\n",
              "min      0.000000    0.000000    532.000000    438.500000\n",
              "25%      0.000000    2.000000   1218.500000    601.500000\n",
              "50%      0.000000    2.000000   1538.000000    667.500000\n",
              "75%     13.000000    3.000000   2530.500000    864.900000\n",
              "max     17.000000   41.000000  48388.000000  12024.000000"
            ]
          },
          "metadata": {
            "tags": []
          },
          "execution_count": 20
        }
      ]
    },
    {
      "cell_type": "markdown",
      "metadata": {
        "id": "d1J2D4J0eiPt"
      },
      "source": [
        "We will investigate each of our numeric variables. Starting with \"Age\", we can see below its distribution. Majority of the sampled patients (61%) are 0 years old. And we have very few sampled patients between the ages of 2 and 9 years."
      ]
    },
    {
      "cell_type": "code",
      "metadata": {
        "colab": {
          "base_uri": "https://localhost:8080/"
        },
        "id": "CT5erk56E4wi",
        "outputId": "477904df-04a0-4582-bc49-02350ce9ef5c"
      },
      "source": [
        "df_filtered['AGE'].value_counts()"
      ],
      "execution_count": null,
      "outputs": [
        {
          "output_type": "execute_result",
          "data": {
            "text/plain": [
              "0     306\n",
              "17     38\n",
              "15     29\n",
              "16     29\n",
              "14     25\n",
              "13     18\n",
              "12     15\n",
              "1      10\n",
              "11      8\n",
              "10      4\n",
              "7       3\n",
              "3       3\n",
              "9       2\n",
              "6       2\n",
              "5       2\n",
              "4       2\n",
              "8       2\n",
              "2       1\n",
              "Name: AGE, dtype: int64"
            ]
          },
          "metadata": {
            "tags": []
          },
          "execution_count": 21
        }
      ]
    },
    {
      "cell_type": "code",
      "metadata": {
        "colab": {
          "base_uri": "https://localhost:8080/",
          "height": 301
        },
        "id": "4NBqomXjH7bZ",
        "outputId": "749eae60-421a-4614-b56a-e6e5ac17bf0b"
      },
      "source": [
        "sns.axes_style(\"white\") \n",
        "ax = sns.histplot(df_filtered['AGE'], bins=18).set(title=\"Age distribution\") "
      ],
      "execution_count": null,
      "outputs": [
        {
          "output_type": "display_data",
          "data": {
            "image/png": "[encoded data removed]",
            "text/plain": [
              "<Figure size 432x288 with 1 Axes>"
            ]
          },
          "metadata": {
            "tags": []
          }
        }
      ]
    },
    {
      "cell_type": "markdown",
      "metadata": {
        "id": "HD0ye3XYfbLE"
      },
      "source": [
        "This is also shown on the Age distribution chart above. \n",
        "\n",
        "Continuing to the GENDER variable, we have equal distribution of males and females, as presented as follows."
      ]
    },
    {
      "cell_type": "code",
      "metadata": {
        "colab": {
          "base_uri": "https://localhost:8080/"
        },
        "id": "kjWU2FdRLxBU",
        "outputId": "5c58bf63-824a-4b40-85f9-744770fc99fb"
      },
      "source": [
        "df_filtered['GENDER'].value_counts()"
      ],
      "execution_count": null,
      "outputs": [
        {
          "output_type": "execute_result",
          "data": {
            "text/plain": [
              "Female    255\n",
              "Male      244\n",
              "Name: GENDER, dtype: int64"
            ]
          },
          "metadata": {
            "tags": []
          },
          "execution_count": 23
        }
      ]
    },
    {
      "cell_type": "code",
      "metadata": {
        "colab": {
          "base_uri": "https://localhost:8080/",
          "height": 301
        },
        "id": "twIb4YJt7kVX",
        "outputId": "1706f0b3-0b3f-46c3-9552-28db940fe79a"
      },
      "source": [
        "sns.axes_style(\"white\") \n",
        "ax = sns.histplot(df_filtered['GENDER']).set(title=\"Gender distribution\")"
      ],
      "execution_count": null,
      "outputs": [
        {
          "output_type": "display_data",
          "data": {
            "image/png": "[encoded data removed]",
            "text/plain": [
              "<Figure size 432x288 with 1 Axes>"
            ]
          },
          "metadata": {
            "tags": []
          }
        }
      ]
    },
    {
      "cell_type": "markdown",
      "metadata": {
        "id": "ky-oJlVVgCsD"
      },
      "source": [
        "The \"RACE_NAME\" variable clearly shows that the White sampled patients comprise the majority, as presented in the following table."
      ]
    },
    {
      "cell_type": "code",
      "metadata": {
        "colab": {
          "base_uri": "https://localhost:8080/"
        },
        "id": "WsMypO2lLnyK",
        "outputId": "ac371d90-ace7-4f41-dccd-9f76ecc88b44"
      },
      "source": [
        "df_filtered['RACE_NAME'].value_counts()"
      ],
      "execution_count": null,
      "outputs": [
        {
          "output_type": "execute_result",
          "data": {
            "text/plain": [
              "White                        484\n",
              "Black                          6\n",
              "Native American                3\n",
              "Asian or Pacific Islander      3\n",
              "Other                          2\n",
              "Hispanic                       1\n",
              "Name: RACE_NAME, dtype: int64"
            ]
          },
          "metadata": {
            "tags": []
          },
          "execution_count": 25
        }
      ]
    },
    {
      "cell_type": "code",
      "metadata": {
        "colab": {
          "base_uri": "https://localhost:8080/",
          "height": 301
        },
        "id": "9Ywvianuchfj",
        "outputId": "3424bbed-2de0-478b-c8bd-95f83bd5835d"
      },
      "source": [
        "sns.axes_style(\"white\") \n",
        "ax = sns.histplot(df_filtered['RACE_NAME']).set(title=\"Race distribution\")"
      ],
      "execution_count": null,
      "outputs": [
        {
          "output_type": "display_data",
          "data": {
            "image/png": "[encoded data removed]",
            "text/plain": [
              "<Figure size 432x288 with 1 Axes>"
            ]
          },
          "metadata": {
            "tags": []
          }
        }
      ]
    },
    {
      "cell_type": "markdown",
      "metadata": {
        "id": "GGyohQ4OgkRZ"
      },
      "source": [
        "When we see the APRDRG=All Patient Refined Diagnosis Related Group, we have very few diagnosises that have higher frequency in this dataframe. This is presented in the following two charts. The second chart shows the top 10 diagnosises based on the sampled patients. The top diagnosis #640 is defined as \"Neonate Birthweight >2499g, Normal Newborn or Neonate with Other Problem\"."
      ]
    },
    {
      "cell_type": "code",
      "metadata": {
        "colab": {
          "base_uri": "https://localhost:8080/",
          "height": 301
        },
        "id": "lga6Hk_wi2yf",
        "outputId": "0e10b003-632d-4dc6-f2bb-0c47310ad76d"
      },
      "source": [
        "ax = sns.histplot(df_filtered['APRDRG']).set(title=\"\") \n",
        "sns.axes_style(\"white\") \n",
        "plt.xlabel('Diagnosis Related Group')\n",
        "plt.title('Diagnosis Related Groups distribution')\n",
        "plt.show()"
      ],
      "execution_count": null,
      "outputs": [
        {
          "output_type": "display_data",
          "data": {
            "image/png": "[encoded data removed]",
            "text/plain": [
              "<Figure size 432x288 with 1 Axes>"
            ]
          },
          "metadata": {
            "tags": []
          }
        }
      ]
    },
    {
      "cell_type": "code",
      "metadata": {
        "colab": {
          "base_uri": "https://localhost:8080/",
          "height": 301
        },
        "id": "WXK3PNP_Hhsl",
        "outputId": "f7f4b346-eb91-47c4-c5a5-2c712cb5e069"
      },
      "source": [
        "sns.axes_style(\"white\") \n",
        "ax = sns.countplot(y='APRDRG', order=df_filtered.APRDRG.value_counts().iloc[:10].index, data=df_filtered) \n",
        "plt.ylabel('Diagnosis Related Group')\n",
        "plt.title('Top 10 Diagnosis Related Groups distribution')\n",
        "plt.show()"
      ],
      "execution_count": null,
      "outputs": [
        {
          "output_type": "display_data",
          "data": {
            "image/png": "[encoded data removed]",
            "text/plain": [
              "<Figure size 432x288 with 1 Axes>"
            ]
          },
          "metadata": {
            "tags": []
          }
        }
      ]
    },
    {
      "cell_type": "code",
      "metadata": {
        "id": "6MwY2SaoEamc",
        "colab": {
          "base_uri": "https://localhost:8080/"
        },
        "outputId": "017d4466-aad4-4cf5-e81a-e74f14ae065c"
      },
      "source": [
        "df_filtered.APRDRG.value_counts().head(10)"
      ],
      "execution_count": null,
      "outputs": [
        {
          "output_type": "execute_result",
          "data": {
            "text/plain": [
              "640    266\n",
              "754     37\n",
              "753     36\n",
              "758     20\n",
              "751     14\n",
              "755     13\n",
              "53      10\n",
              "249      6\n",
              "626      6\n",
              "139      5\n",
              "Name: APRDRG, dtype: int64"
            ]
          },
          "metadata": {
            "tags": []
          },
          "execution_count": 64
        }
      ]
    },
    {
      "cell_type": "markdown",
      "metadata": {
        "id": "iaAJt0qTiufQ"
      },
      "source": [
        "Moving forward with AVGCHG=Average Charge, we have skipped LOS=Length of Stay and TOTCHG=Total Charge, because both of them are used to calculate the Average Charge. The Average Charge distribution shows that it is skewed to the right."
      ]
    },
    {
      "cell_type": "code",
      "metadata": {
        "colab": {
          "base_uri": "https://localhost:8080/",
          "height": 301
        },
        "id": "Sw3FMmUXMlEc",
        "outputId": "498b451e-1636-4a8f-b92e-cf00c6d58e16"
      },
      "source": [
        "ax = sns.histplot(df_filtered['AVGCHG']) \n",
        "sns.axes_style(\"white\") \n",
        "plt.xlabel('Average Charge')\n",
        "plt.title('Average Charge distribution')\n",
        "plt.show()"
      ],
      "execution_count": null,
      "outputs": [
        {
          "output_type": "display_data",
          "data": {
            "image/png": "[encoded data removed]",
            "text/plain": [
              "<Figure size 432x288 with 1 Axes>"
            ]
          },
          "metadata": {
            "tags": []
          }
        }
      ]
    },
    {
      "cell_type": "code",
      "metadata": {
        "colab": {
          "base_uri": "https://localhost:8080/",
          "height": 458
        },
        "id": "I8FsWFTHg2hL",
        "outputId": "c624a76c-bc96-4dc7-f3f3-b00e5884e83a"
      },
      "source": [
        "ax = sns.jointplot(x='AGE', y=\"AVGCHG\", data=df_filtered) \n",
        "sns.axes_style(\"white\") \n",
        "ax.fig.suptitle(\"Average Charge distribution by Age\") \n",
        "ax.set_axis_labels('Age', 'Average Charge')"
      ],
      "execution_count": null,
      "outputs": [
        {
          "output_type": "execute_result",
          "data": {
            "text/plain": [
              "<seaborn.axisgrid.JointGrid at 0x7f560cb99490>"
            ]
          },
          "metadata": {
            "tags": []
          },
          "execution_count": 30
        },
        {
          "output_type": "display_data",
          "data": {
            "image/png": "[encoded data removed]",
            "text/plain": [
              "<Figure size 432x432 with 3 Axes>"
            ]
          },
          "metadata": {
            "tags": []
          }
        }
      ]
    },
    {
      "cell_type": "markdown",
      "metadata": {
        "id": "9gQ7qb1Zjpho"
      },
      "source": [
        "The chart above demonstrating the Average Charge distribution by Age shows that there are more higher payers with higher age."
      ]
    },
    {
      "cell_type": "code",
      "metadata": {
        "colab": {
          "base_uri": "https://localhost:8080/",
          "height": 458
        },
        "id": "im9B9SSfMQy8",
        "outputId": "0fdbcdbd-27ad-4b90-bad3-dc6041f516c2"
      },
      "source": [
        "ax = sns.jointplot(x='GENDER', y=\"AVGCHG\", data=df_filtered)\n",
        "sns.axes_style(\"white\") \n",
        "ax.fig.suptitle(\"Average Charge distribution by Gender\") \n",
        "ax.set_axis_labels('Gender', 'Average Charge')"
      ],
      "execution_count": null,
      "outputs": [
        {
          "output_type": "execute_result",
          "data": {
            "text/plain": [
              "<seaborn.axisgrid.JointGrid at 0x7f560c8f7110>"
            ]
          },
          "metadata": {
            "tags": []
          },
          "execution_count": 31
        },
        {
          "output_type": "display_data",
          "data": {
            "image/png": "[encoded data removed]",
            "text/plain": [
              "<Figure size 432x432 with 3 Axes>"
            ]
          },
          "metadata": {
            "tags": []
          }
        }
      ]
    },
    {
      "cell_type": "markdown",
      "metadata": {
        "id": "okZ1HaZ8kCV4"
      },
      "source": [
        "The above Average Charge distribution by Gender shows that Males are likely to pay higher. This is also presented below in box plot chart for males and females."
      ]
    },
    {
      "cell_type": "code",
      "metadata": {
        "colab": {
          "base_uri": "https://localhost:8080/",
          "height": 301
        },
        "id": "yx5LlYtDqY5g",
        "outputId": "f9b7dc16-e1aa-4916-9d7c-261e36512905"
      },
      "source": [
        "sns.axes_style(\"white\")\n",
        "sns.boxplot(y=\"AVGCHG\", x=\"GENDER\", data=df_filtered)\n",
        "plt.xlabel('Gender')\n",
        "plt.ylabel('Average Charge')\n",
        "plt.title('Average Charge distribution by Gender')\n",
        "plt.show()"
      ],
      "execution_count": null,
      "outputs": [
        {
          "output_type": "display_data",
          "data": {
            "image/png": "[encoded data removed]",
            "text/plain": [
              "<Figure size 432x288 with 1 Axes>"
            ]
          },
          "metadata": {
            "tags": []
          }
        }
      ]
    },
    {
      "cell_type": "markdown",
      "metadata": {
        "id": "AH4TCB-YmB5R"
      },
      "source": [
        "We can observe below the Average Charge distribution by Age and indexed by Gender. Older males are more likely to pay higher average charge."
      ]
    },
    {
      "cell_type": "code",
      "metadata": {
        "colab": {
          "base_uri": "https://localhost:8080/",
          "height": 301
        },
        "id": "SLDUe_losUWR",
        "outputId": "6d2523ce-fc79-42f0-f3fc-cf4f16db769b"
      },
      "source": [
        "ax = sns.scatterplot(x=\"AGE\", y=\"AVGCHG\", hue=\"GENDER\", data=df_filtered) \n",
        "sns.set_style(\"white\") \n",
        "plt.xlabel('Age')\n",
        "plt.ylabel('Average Charge')\n",
        "plt.title('Average Charge distribution by Age and Gender')\n",
        "plt.show()"
      ],
      "execution_count": null,
      "outputs": [
        {
          "output_type": "display_data",
          "data": {
            "image/png": "[encoded data removed]",
            "text/plain": [
              "<Figure size 432x288 with 1 Axes>"
            ]
          },
          "metadata": {
            "tags": []
          }
        }
      ]
    },
    {
      "cell_type": "markdown",
      "metadata": {
        "id": "jpd6QQu-mda_"
      },
      "source": [
        "The Average Charge distribution by Diagnosis Related Groups and Gender shows that Diagnosis #640 doesnot cost that much compared to others. And it also shows that the males have those diagnosises with high average charges."
      ]
    },
    {
      "cell_type": "code",
      "metadata": {
        "colab": {
          "base_uri": "https://localhost:8080/",
          "height": 301
        },
        "id": "fwTtpVx8raop",
        "outputId": "6ac6d6bf-15b4-4c9f-daa1-7d8add0ecf07"
      },
      "source": [
        "ax = sns.scatterplot(x=\"APRDRG\", y=\"AVGCHG\", hue=\"GENDER\", data=df_filtered) \n",
        "sns.set_style(\"white\") \n",
        "plt.xlabel('Diagnosis Related Groups')\n",
        "plt.ylabel('Average Charge')\n",
        "plt.title('Average Charge distribution by Diagnosis Related Group and Gender')\n",
        "plt.show()"
      ],
      "execution_count": null,
      "outputs": [
        {
          "output_type": "display_data",
          "data": {
            "image/png": "[encoded data removed]",
            "text/plain": [
              "<Figure size 432x288 with 1 Axes>"
            ]
          },
          "metadata": {
            "tags": []
          }
        }
      ]
    },
    {
      "cell_type": "markdown",
      "metadata": {
        "id": "XRCPF4m7nVhG"
      },
      "source": [
        "And finally the Average Charge distribution by Diagnosis Related Groups, Race and Gender, shows a similar picture, just adding that these are White patients being the majority."
      ]
    },
    {
      "cell_type": "code",
      "metadata": {
        "colab": {
          "base_uri": "https://localhost:8080/",
          "height": 301
        },
        "id": "65HbhQWBtvFa",
        "outputId": "480b5605-7dc1-40ff-e6c5-fbcd08d88519"
      },
      "source": [
        "ax = sns.scatterplot(x=\"APRDRG\", y=\"AVGCHG\", hue=\"RACE_NAME\",  style=\"GENDER\", data=df_filtered)\n",
        "sns.set_style(\"white\")\n",
        "plt.legend(bbox_to_anchor=(1.02, 1), loc='upper left', borderaxespad=0) \n",
        "plt.xlabel('Diagnosis Related Groups')\n",
        "plt.ylabel('Average Charge')\n",
        "plt.title('Average Charge distribution by Diagnosis Related Group, Race and Gender')\n",
        "plt.show()"
      ],
      "execution_count": null,
      "outputs": [
        {
          "output_type": "display_data",
          "data": {
            "image/png": "[encoded data removed]",
            "text/plain": [
              "<Figure size 432x288 with 1 Axes>"
            ]
          },
          "metadata": {
            "tags": []
          }
        }
      ]
    },
    {
      "cell_type": "markdown",
      "metadata": {
        "id": "usckiaI9n7pF"
      },
      "source": [
        "####**Correlation Data Analysis**"
      ]
    },
    {
      "cell_type": "markdown",
      "metadata": {
        "id": "6jRl_HAQoCXI"
      },
      "source": [
        "We will conduct Correlation data analysis to investigate the realtionship between our dependent and independent variables. The correlation matrix is presenated below in two forms. The first one is a Heatmap by Seaborn and the second one is tabular result. Both of them show that dependent variable, AVGCHG=Average Charge only demostrated a higher associated with the APRDRG=Diagnosis Realted Group with a correlation coefficient of -0.55. This means an inverse relationship with increaing numbers of the Diagnosis Related Groups, the Average Charge decreases."
      ]
    },
    {
      "cell_type": "code",
      "metadata": {
        "colab": {
          "base_uri": "https://localhost:8080/",
          "height": 284
        },
        "id": "EsCDV0gdS8IX",
        "outputId": "7c90e918-587e-4a92-8ee8-bb472fb1a08f"
      },
      "source": [
        "corr = df_filtered.corr()\n",
        "vars = ['AGE', 'FEMALE', 'RACE', 'APRDRG', 'AVGCHG']\n",
        "sns.heatmap(corr.loc[vars,vars], annot=True) \n",
        "plt.title('Variables Correlation')\n",
        "plt.show()"
      ],
      "execution_count": null,
      "outputs": [
        {
          "output_type": "display_data",
          "data": {
            "image/png": "[encoded data removed]",
            "text/plain": [
              "<Figure size 432x288 with 2 Axes>"
            ]
          },
          "metadata": {
            "tags": []
          }
        }
      ]
    },
    {
      "cell_type": "code",
      "metadata": {
        "colab": {
          "base_uri": "https://localhost:8080/",
          "height": 202
        },
        "id": "yWBhGwR6Ak2p",
        "outputId": "7e86432b-9092-4f5a-cdd2-30dd5ec3077f"
      },
      "source": [
        "df_filtered[['AGE', 'FEMALE', 'RACE', 'APRDRG', 'AVGCHG']].corr()"
      ],
      "execution_count": null,
      "outputs": [
        {
          "output_type": "execute_result",
          "data": {
            "text/html": [
              "<div>\n",
              "<style scoped>\n",
              "    .dataframe tbody tr th:only-of-type {\n",
              "        vertical-align: middle;\n",
              "    }\n",
              "\n",
              "    .dataframe tbody tr th {\n",
              "        vertical-align: top;\n",
              "    }\n",
              "\n",
              "    .dataframe thead th {\n",
              "        text-align: right;\n",
              "    }\n",
              "</style>\n",
              "<table border=\"1\" class=\"dataframe\">\n",
              "  <thead>\n",
              "    <tr style=\"text-align: right;\">\n",
              "      <th></th>\n",
              "      <th>AGE</th>\n",
              "      <th>FEMALE</th>\n",
              "      <th>RACE</th>\n",
              "      <th>APRDRG</th>\n",
              "      <th>AVGCHG</th>\n",
              "    </tr>\n",
              "  </thead>\n",
              "  <tbody>\n",
              "    <tr>\n",
              "      <th>AGE</th>\n",
              "      <td>1.000000</td>\n",
              "      <td>0.235764</td>\n",
              "      <td>0.015850</td>\n",
              "      <td>0.147774</td>\n",
              "      <td>0.222333</td>\n",
              "    </tr>\n",
              "    <tr>\n",
              "      <th>FEMALE</th>\n",
              "      <td>0.235764</td>\n",
              "      <td>1.000000</td>\n",
              "      <td>-0.038434</td>\n",
              "      <td>0.252849</td>\n",
              "      <td>-0.170687</td>\n",
              "    </tr>\n",
              "    <tr>\n",
              "      <th>RACE</th>\n",
              "      <td>0.015850</td>\n",
              "      <td>-0.038434</td>\n",
              "      <td>1.000000</td>\n",
              "      <td>-0.043737</td>\n",
              "      <td>-0.005932</td>\n",
              "    </tr>\n",
              "    <tr>\n",
              "      <th>APRDRG</th>\n",
              "      <td>0.147774</td>\n",
              "      <td>0.252849</td>\n",
              "      <td>-0.043737</td>\n",
              "      <td>1.000000</td>\n",
              "      <td>-0.549342</td>\n",
              "    </tr>\n",
              "    <tr>\n",
              "      <th>AVGCHG</th>\n",
              "      <td>0.222333</td>\n",
              "      <td>-0.170687</td>\n",
              "      <td>-0.005932</td>\n",
              "      <td>-0.549342</td>\n",
              "      <td>1.000000</td>\n",
              "    </tr>\n",
              "  </tbody>\n",
              "</table>\n",
              "</div>"
            ],
            "text/plain": [
              "             AGE    FEMALE      RACE    APRDRG    AVGCHG\n",
              "AGE     1.000000  0.235764  0.015850  0.147774  0.222333\n",
              "FEMALE  0.235764  1.000000 -0.038434  0.252849 -0.170687\n",
              "RACE    0.015850 -0.038434  1.000000 -0.043737 -0.005932\n",
              "APRDRG  0.147774  0.252849 -0.043737  1.000000 -0.549342\n",
              "AVGCHG  0.222333 -0.170687 -0.005932 -0.549342  1.000000"
            ]
          },
          "metadata": {
            "tags": []
          },
          "execution_count": 37
        }
      ]
    },
    {
      "cell_type": "markdown",
      "metadata": {
        "id": "XXjdkPuLpg41"
      },
      "source": [
        "To calculate the Pearson Correlation Coefficient and its p-value to investigate its significance, we will use scipy-stats syntax, as follows."
      ]
    },
    {
      "cell_type": "code",
      "metadata": {
        "colab": {
          "base_uri": "https://localhost:8080/"
        },
        "id": "N4Cyo1uaB6It",
        "outputId": "a238615b-943b-4074-a369-3a0853927506"
      },
      "source": [
        "stats.pearsonr(df_filtered['APRDRG'], df_filtered['AVGCHG'])"
      ],
      "execution_count": null,
      "outputs": [
        {
          "output_type": "execute_result",
          "data": {
            "text/plain": [
              "(-0.5493419895781473, 1.1074256940238364e-40)"
            ]
          },
          "metadata": {
            "tags": []
          },
          "execution_count": 38
        }
      ]
    },
    {
      "cell_type": "markdown",
      "metadata": {
        "id": "fiwJaR_IqLb7"
      },
      "source": [
        "First investigating the realtationship between APRDRG=All Patient Refined Diagnosis Related Group and AVGCHG=Average Charge, it shows a negative significant association with p-value<0.05."
      ]
    },
    {
      "cell_type": "code",
      "metadata": {
        "colab": {
          "base_uri": "https://localhost:8080/"
        },
        "id": "EhOONcNICOSX",
        "outputId": "f661d305-573d-4c5c-e236-4fc47785eb53"
      },
      "source": [
        "stats.pearsonr(df_filtered['AGE'], df_filtered['AVGCHG'])"
      ],
      "execution_count": null,
      "outputs": [
        {
          "output_type": "execute_result",
          "data": {
            "text/plain": [
              "(0.22233263689477978, 5.248234266367967e-07)"
            ]
          },
          "metadata": {
            "tags": []
          },
          "execution_count": 39
        }
      ]
    },
    {
      "cell_type": "markdown",
      "metadata": {
        "id": "RoDH-FeqqsxI"
      },
      "source": [
        "Continuing to the relationship between Age and Average Charge, it also shows a positive siginificant association with p-value<0.05."
      ]
    },
    {
      "cell_type": "code",
      "metadata": {
        "colab": {
          "base_uri": "https://localhost:8080/"
        },
        "id": "UL4hz8frCazr",
        "outputId": "b5cf90f8-84c3-48c6-acc0-1131820bd96e"
      },
      "source": [
        "stats.pearsonr(df_filtered['FEMALE'], df_filtered['AVGCHG'])"
      ],
      "execution_count": null,
      "outputs": [
        {
          "output_type": "execute_result",
          "data": {
            "text/plain": [
              "(-0.1706865045281081, 0.00012739688136961864)"
            ]
          },
          "metadata": {
            "tags": []
          },
          "execution_count": 40
        }
      ]
    },
    {
      "cell_type": "markdown",
      "metadata": {
        "id": "z8NLBfP-rI1S"
      },
      "source": [
        "We also investigated the relationship between being Female and Average Charge. They have a negative siginificant association with p-value<0.05."
      ]
    },
    {
      "cell_type": "code",
      "metadata": {
        "colab": {
          "base_uri": "https://localhost:8080/"
        },
        "id": "kzOS63BdCf_L",
        "outputId": "4012d603-3810-4b7a-8bc6-5018c75209ed"
      },
      "source": [
        "stats.pearsonr(df_filtered['RACE'], df_filtered['AVGCHG'])"
      ],
      "execution_count": null,
      "outputs": [
        {
          "output_type": "execute_result",
          "data": {
            "text/plain": [
              "(-0.005931663094192516, 0.8948481099416375)"
            ]
          },
          "metadata": {
            "tags": []
          },
          "execution_count": 41
        }
      ]
    },
    {
      "cell_type": "markdown",
      "metadata": {
        "id": "yfHmlMvgrjm4"
      },
      "source": [
        "Finally we have investigated the relationship between RACE and Average Charge. Here it should be noted that majority of our sampled patients are White, so the result may be affected by this. They have a negative assocation meaning being White has higher Average Charge, and it is not siginificant, p-value>0.05."
      ]
    },
    {
      "cell_type": "markdown",
      "metadata": {
        "id": "uyecnDkP5-1w"
      },
      "source": [
        "####**Hypothesis Testing**"
      ]
    },
    {
      "cell_type": "markdown",
      "metadata": {
        "id": "nCxDMXSl65Be"
      },
      "source": [
        "For hypothesis testing, we will use t-test for independent samples. To get these independent samples, we will divide our samples into two groups. First lets analyze the age distribution of our sample. As described above, we have a high number of patients aged 0 and 1 at the lower side and a high number of patients starting at 10 to 17 years. Because we have almost two-thirds of the population at age 0 years, lets assume to create two groups with age 0 years and with age greater than 0 years. This is done as follows. \n",
        "\n",
        "We will take the null hypothesis stating that the mean difference of the Average Charges for those 0 years of age and those > 0 years of age is zero, or they are equal. And the alternate hypothesis states the reverse, i.e they are not equal."
      ]
    },
    {
      "cell_type": "code",
      "metadata": {
        "colab": {
          "base_uri": "https://localhost:8080/"
        },
        "id": "p5dfmWsNC4lh",
        "outputId": "fde759d0-8352-4cbe-9990-b7817f4c2919"
      },
      "source": [
        "df_filtered_0_yrs = df_filtered.iloc[(df_filtered['AGE'] == 0).values] \n",
        "df_filtered_0_yrs.info() \n",
        "df_filtered_0_yrs['AVGCHG'].describe()"
      ],
      "execution_count": null,
      "outputs": [
        {
          "output_type": "stream",
          "text": [
            "<class 'pandas.core.frame.DataFrame'>\n",
            "Int64Index: 306 entries, 71 to 499\n",
            "Data columns (total 9 columns):\n",
            " #   Column     Non-Null Count  Dtype  \n",
            "---  ------     --------------  -----  \n",
            " 0   AGE        306 non-null    int64  \n",
            " 1   FEMALE     306 non-null    int64  \n",
            " 2   LOS        306 non-null    int64  \n",
            " 3   RACE       306 non-null    float64\n",
            " 4   TOTCHG     306 non-null    int64  \n",
            " 5   APRDRG     306 non-null    int64  \n",
            " 6   AVGCHG     306 non-null    float64\n",
            " 7   GENDER     306 non-null    object \n",
            " 8   RACE_NAME  306 non-null    object \n",
            "dtypes: float64(2), int64(5), object(2)\n",
            "memory usage: 23.9+ KB\n"
          ],
          "name": "stdout"
        },
        {
          "output_type": "execute_result",
          "data": {
            "text/plain": [
              "count     306.000000\n",
              "mean      738.084223\n",
              "std       343.458236\n",
              "min       438.500000\n",
              "25%       587.125000\n",
              "50%       643.666667\n",
              "75%       734.125000\n",
              "max      2847.000000\n",
              "Name: AVGCHG, dtype: float64"
            ]
          },
          "metadata": {
            "tags": []
          },
          "execution_count": 42
        }
      ]
    },
    {
      "cell_type": "code",
      "metadata": {
        "colab": {
          "base_uri": "https://localhost:8080/"
        },
        "id": "pdAEwPBnDhcz",
        "outputId": "edb33ba2-fca7-4c06-8778-3d1acd5b2891"
      },
      "source": [
        "df_filtered_1_to_17_yrs = df_filtered.iloc[(df_filtered['AGE'] > 0).values] \n",
        "df_filtered_1_to_17_yrs.info()\n",
        "df_filtered_1_to_17_yrs['AVGCHG'].describe()"
      ],
      "execution_count": null,
      "outputs": [
        {
          "output_type": "stream",
          "text": [
            "<class 'pandas.core.frame.DataFrame'>\n",
            "Int64Index: 193 entries, 0 to 492\n",
            "Data columns (total 9 columns):\n",
            " #   Column     Non-Null Count  Dtype  \n",
            "---  ------     --------------  -----  \n",
            " 0   AGE        193 non-null    int64  \n",
            " 1   FEMALE     193 non-null    int64  \n",
            " 2   LOS        193 non-null    int64  \n",
            " 3   RACE       193 non-null    float64\n",
            " 4   TOTCHG     193 non-null    int64  \n",
            " 5   APRDRG     193 non-null    int64  \n",
            " 6   AVGCHG     193 non-null    float64\n",
            " 7   GENDER     193 non-null    object \n",
            " 8   RACE_NAME  193 non-null    object \n",
            "dtypes: float64(2), int64(5), object(2)\n",
            "memory usage: 15.1+ KB\n"
          ],
          "name": "stdout"
        },
        {
          "output_type": "execute_result",
          "data": {
            "text/plain": [
              "count      193.000000\n",
              "mean      1608.403791\n",
              "std       1826.296599\n",
              "min        532.000000\n",
              "25%        622.000000\n",
              "50%        762.000000\n",
              "75%       1907.000000\n",
              "max      12024.000000\n",
              "Name: AVGCHG, dtype: float64"
            ]
          },
          "metadata": {
            "tags": []
          },
          "execution_count": 43
        }
      ]
    },
    {
      "cell_type": "markdown",
      "metadata": {
        "id": "G6TJQU0X8abP"
      },
      "source": [
        "After getting the two groups, we can go forward to input the groups into the t-test syntax as follows. The result shows a negative t-test statistic, meaning those >0 years of age have higher mean of average charge that those 0 years of age. And the p-value is siginificant, <0.05. So we reject the null hypothesis."
      ]
    },
    {
      "cell_type": "code",
      "metadata": {
        "colab": {
          "base_uri": "https://localhost:8080/"
        },
        "id": "2usBI7hkD4kU",
        "outputId": "df276677-82df-49db-ffb3-d5739b3b89ae"
      },
      "source": [
        "stats.ttest_ind(df_filtered_0_yrs['AVGCHG'], df_filtered_1_to_17_yrs['AVGCHG'], equal_var=False)"
      ],
      "execution_count": null,
      "outputs": [
        {
          "output_type": "execute_result",
          "data": {
            "text/plain": [
              "Ttest_indResult(statistic=-6.547800306598145, pvalue=4.791924036487163e-10)"
            ]
          },
          "metadata": {
            "tags": []
          },
          "execution_count": 44
        }
      ]
    },
    {
      "cell_type": "code",
      "metadata": {
        "id": "z96kYXhZX_PA"
      },
      "source": [
        "from"
      ],
      "execution_count": null,
      "outputs": []
    },
    {
      "cell_type": "markdown",
      "metadata": {
        "id": "E4w344KI-oIv"
      },
      "source": [
        "To calculate the confidence interval, I have imported the maths library and collected this function from our checkpoint sessions. This function makes the calculation easy on the other hypothesis tests. And it just follows a stepwise process to get every required value to calculate the confidence interval at 95% and finally it inputs all the values in the formula. Check the following codes:"
      ]
    },
    {
      "cell_type": "code",
      "metadata": {
        "id": "aZze4BfcOP1b"
      },
      "source": [
        "import math\n",
        "def get_95_ci(array_1, array_2):\n",
        "    sample_1_n = array_1.shape[0]\n",
        "    sample_2_n = array_2.shape[0]\n",
        "    sample_1_mean = array_1.mean()\n",
        "    sample_2_mean = array_2.mean()\n",
        "    sample_1_var = array_1.var()\n",
        "    sample_2_var = array_2.var()\n",
        "    mean_difference = sample_2_mean - sample_1_mean\n",
        "    std_err_difference = math.sqrt((sample_1_var/sample_1_n)+(sample_2_var/sample_2_n))\n",
        "    margin_of_error = 1.96 * std_err_difference\n",
        "    ci_lower = mean_difference - margin_of_error\n",
        "    ci_upper = mean_difference + margin_of_error\n",
        "    return(\"The difference in means at the 95% confidence interval (two-tail) is between \"+str(ci_lower)+\" and \"+str(ci_upper)+\".\")"
      ],
      "execution_count": null,
      "outputs": []
    },
    {
      "cell_type": "markdown",
      "metadata": {
        "id": "RJ3nRpmj_fIM"
      },
      "source": [
        "After creating the function above, it will easily output the 95% confidence interval of the mean differences. This also shows that those >0 years old have higher mean of Average Charges than those 0 years old. "
      ]
    },
    {
      "cell_type": "code",
      "metadata": {
        "colab": {
          "base_uri": "https://localhost:8080/",
          "height": 35
        },
        "id": "_uisJCUpOTcA",
        "outputId": "f959bdcd-d873-4506-e07e-a4ba836de5af"
      },
      "source": [
        "get_95_ci(df_filtered_0_yrs['AVGCHG'], df_filtered_1_to_17_yrs['AVGCHG'])"
      ],
      "execution_count": null,
      "outputs": [
        {
          "output_type": "execute_result",
          "data": {
            "application/vnd.google.colaboratory.intrinsic+json": {
              "type": "string"
            },
            "text/plain": [
              "'The difference in means at the 95% confidence interval (two-tail) is between 609.8005738646145 and 1130.8385637072415.'"
            ]
          },
          "metadata": {
            "tags": []
          },
          "execution_count": 46
        }
      ]
    },
    {
      "cell_type": "markdown",
      "metadata": {
        "id": "ZseeUROUAJxF"
      },
      "source": [
        "Taking the gender variable, \"FEMALE\", we will first divide the dataframe into females and males data set, as done in the following. \n",
        "\n",
        "Here we will take the null hypothesis stating that the mean difference of the Average Charges for females and males is zero, or they are equal. And the alternate hypothesis states the reverse, i.e they are not equal."
      ]
    },
    {
      "cell_type": "code",
      "metadata": {
        "colab": {
          "base_uri": "https://localhost:8080/"
        },
        "id": "mEcJ2EruEz25",
        "outputId": "c838d595-61e3-4e4f-934f-371f6811bd19"
      },
      "source": [
        "df_filtered_Female = df_filtered.iloc[(df_filtered['FEMALE'] == 1).values] \n",
        "df_filtered_Female.info()"
      ],
      "execution_count": null,
      "outputs": [
        {
          "output_type": "stream",
          "text": [
            "<class 'pandas.core.frame.DataFrame'>\n",
            "Int64Index: 255 entries, 0 to 498\n",
            "Data columns (total 9 columns):\n",
            " #   Column     Non-Null Count  Dtype  \n",
            "---  ------     --------------  -----  \n",
            " 0   AGE        255 non-null    int64  \n",
            " 1   FEMALE     255 non-null    int64  \n",
            " 2   LOS        255 non-null    int64  \n",
            " 3   RACE       255 non-null    float64\n",
            " 4   TOTCHG     255 non-null    int64  \n",
            " 5   APRDRG     255 non-null    int64  \n",
            " 6   AVGCHG     255 non-null    float64\n",
            " 7   GENDER     255 non-null    object \n",
            " 8   RACE_NAME  255 non-null    object \n",
            "dtypes: float64(2), int64(5), object(2)\n",
            "memory usage: 19.9+ KB\n"
          ],
          "name": "stdout"
        }
      ]
    },
    {
      "cell_type": "code",
      "metadata": {
        "colab": {
          "base_uri": "https://localhost:8080/"
        },
        "id": "paWipMo-EyYl",
        "outputId": "30c471a7-663b-428b-f956-83e8b368cf26"
      },
      "source": [
        "df_filtered_Male = df_filtered.iloc[(df_filtered['FEMALE'] == 0).values] \n",
        "df_filtered_Male.info()"
      ],
      "execution_count": null,
      "outputs": [
        {
          "output_type": "stream",
          "text": [
            "<class 'pandas.core.frame.DataFrame'>\n",
            "Int64Index: 244 entries, 1 to 499\n",
            "Data columns (total 9 columns):\n",
            " #   Column     Non-Null Count  Dtype  \n",
            "---  ------     --------------  -----  \n",
            " 0   AGE        244 non-null    int64  \n",
            " 1   FEMALE     244 non-null    int64  \n",
            " 2   LOS        244 non-null    int64  \n",
            " 3   RACE       244 non-null    float64\n",
            " 4   TOTCHG     244 non-null    int64  \n",
            " 5   APRDRG     244 non-null    int64  \n",
            " 6   AVGCHG     244 non-null    float64\n",
            " 7   GENDER     244 non-null    object \n",
            " 8   RACE_NAME  244 non-null    object \n",
            "dtypes: float64(2), int64(5), object(2)\n",
            "memory usage: 19.1+ KB\n"
          ],
          "name": "stdout"
        }
      ]
    },
    {
      "cell_type": "markdown",
      "metadata": {
        "id": "AiXFdyU-AxI8"
      },
      "source": [
        "Inputing the groups into the t-test syntax, showed a negative t-test statistic result meaning that males have higher mean of average charges compared to females. And the p-value is significicant at <0.05. So we reject the null hypothesis."
      ]
    },
    {
      "cell_type": "code",
      "metadata": {
        "colab": {
          "base_uri": "https://localhost:8080/"
        },
        "id": "TFmQxbozEc6Z",
        "outputId": "a287ec7d-e3b4-490e-de20-0a86e1f91af9"
      },
      "source": [
        "stats.ttest_ind(df_filtered_Female['AVGCHG'], df_filtered_Male['AVGCHG'])"
      ],
      "execution_count": null,
      "outputs": [
        {
          "output_type": "execute_result",
          "data": {
            "text/plain": [
              "Ttest_indResult(statistic=-3.8618705013492485, pvalue=0.00012739688136966833)"
            ]
          },
          "metadata": {
            "tags": []
          },
          "execution_count": 49
        }
      ]
    },
    {
      "cell_type": "markdown",
      "metadata": {
        "id": "sGB-UpSICH3T"
      },
      "source": [
        "Getting the 95% Confidence interval of the mean difference using the above function, the result shows that males have higher mean of average charges compared to females."
      ]
    },
    {
      "cell_type": "code",
      "metadata": {
        "colab": {
          "base_uri": "https://localhost:8080/",
          "height": 35
        },
        "id": "mmTWMPPVQRkz",
        "outputId": "d6dbb2dd-537f-4efb-9a26-8048afc2fea8"
      },
      "source": [
        "get_95_ci(df_filtered_Female['AVGCHG'], df_filtered_Male['AVGCHG'])"
      ],
      "execution_count": null,
      "outputs": [
        {
          "output_type": "execute_result",
          "data": {
            "application/vnd.google.colaboratory.intrinsic+json": {
              "type": "string"
            },
            "text/plain": [
              "'The difference in means at the 95% confidence interval (two-tail) is between 205.50028142934121 and 640.6218292720864.'"
            ]
          },
          "metadata": {
            "tags": []
          },
          "execution_count": 50
        }
      ]
    },
    {
      "cell_type": "markdown",
      "metadata": {
        "id": "uMmrn8ukCiCd"
      },
      "source": [
        "As described in the Diagnosis Related Groups analysis, the top diagnosis of our sampled patients is #640. So taking this diagnosed patients as one group and the remaining other together as one group, we can conduct our hypothesis test. \n",
        "\n",
        "Here we will take the null hypothesis stating that the mean difference of the Average Charges for those diagnosed with #640 and those not diagnosed with #640 is zero, or they are equal. And the alternate hypothesis states the reverse, i.e they are not equal.\n"
      ]
    },
    {
      "cell_type": "code",
      "metadata": {
        "colab": {
          "base_uri": "https://localhost:8080/"
        },
        "id": "K9chqmk4MEbo",
        "outputId": "58556636-784b-49c6-af76-3b9d9bc7744f"
      },
      "source": [
        "df_filtered_APRDRG_640 = df_filtered.iloc[(df_filtered['APRDRG'] == 640).values] \n",
        "df_filtered_APRDRG_640.info() "
      ],
      "execution_count": null,
      "outputs": [
        {
          "output_type": "stream",
          "text": [
            "<class 'pandas.core.frame.DataFrame'>\n",
            "Int64Index: 266 entries, 74 to 499\n",
            "Data columns (total 9 columns):\n",
            " #   Column     Non-Null Count  Dtype  \n",
            "---  ------     --------------  -----  \n",
            " 0   AGE        266 non-null    int64  \n",
            " 1   FEMALE     266 non-null    int64  \n",
            " 2   LOS        266 non-null    int64  \n",
            " 3   RACE       266 non-null    float64\n",
            " 4   TOTCHG     266 non-null    int64  \n",
            " 5   APRDRG     266 non-null    int64  \n",
            " 6   AVGCHG     266 non-null    float64\n",
            " 7   GENDER     266 non-null    object \n",
            " 8   RACE_NAME  266 non-null    object \n",
            "dtypes: float64(2), int64(5), object(2)\n",
            "memory usage: 20.8+ KB\n"
          ],
          "name": "stdout"
        }
      ]
    },
    {
      "cell_type": "code",
      "metadata": {
        "colab": {
          "base_uri": "https://localhost:8080/"
        },
        "id": "oT2aw481MIJE",
        "outputId": "46058a90-e0a7-4ff7-9c01-b7c1cf91e90a"
      },
      "source": [
        "df_filtered_APRDRG_NOT_640 = df_filtered.iloc[(df_filtered['APRDRG'] != 640).values] \n",
        "df_filtered_APRDRG_NOT_640.info()"
      ],
      "execution_count": null,
      "outputs": [
        {
          "output_type": "stream",
          "text": [
            "<class 'pandas.core.frame.DataFrame'>\n",
            "Int64Index: 233 entries, 0 to 495\n",
            "Data columns (total 9 columns):\n",
            " #   Column     Non-Null Count  Dtype  \n",
            "---  ------     --------------  -----  \n",
            " 0   AGE        233 non-null    int64  \n",
            " 1   FEMALE     233 non-null    int64  \n",
            " 2   LOS        233 non-null    int64  \n",
            " 3   RACE       233 non-null    float64\n",
            " 4   TOTCHG     233 non-null    int64  \n",
            " 5   APRDRG     233 non-null    int64  \n",
            " 6   AVGCHG     233 non-null    float64\n",
            " 7   GENDER     233 non-null    object \n",
            " 8   RACE_NAME  233 non-null    object \n",
            "dtypes: float64(2), int64(5), object(2)\n",
            "memory usage: 18.2+ KB\n"
          ],
          "name": "stdout"
        }
      ]
    },
    {
      "cell_type": "markdown",
      "metadata": {
        "id": "3FeWRHr3Dd2O"
      },
      "source": [
        "Inputing the groups into the t-test syntax, showed a negative t-test statistic result meaning that those not diagnosed with #640 have higher mean of average charges compared to those diagnosed with #640. And the p-value is significicant at <0.05. So we reject the null hypothesis."
      ]
    },
    {
      "cell_type": "code",
      "metadata": {
        "colab": {
          "base_uri": "https://localhost:8080/"
        },
        "id": "OpRJVN72MOJh",
        "outputId": "d8321bf1-efaa-4585-ae86-1ec7a6fbd45d"
      },
      "source": [
        "stats.ttest_ind(df_filtered_APRDRG_640['AVGCHG'], df_filtered_APRDRG_NOT_640['AVGCHG'])"
      ],
      "execution_count": null,
      "outputs": [
        {
          "output_type": "execute_result",
          "data": {
            "text/plain": [
              "Ttest_indResult(statistic=-8.295764843196055, pvalue=1.0209709549484431e-15)"
            ]
          },
          "metadata": {
            "tags": []
          },
          "execution_count": 53
        }
      ]
    },
    {
      "cell_type": "markdown",
      "metadata": {
        "id": "WAQeJa3hEig7"
      },
      "source": [
        "Also the 95% Confidence interval of the mean difference using the above function, the result shows that those not diagnosed with #640 have higher mean of average charges compared to those diagnosed with #640."
      ]
    },
    {
      "cell_type": "code",
      "metadata": {
        "colab": {
          "base_uri": "https://localhost:8080/",
          "height": 35
        },
        "id": "smbYnyA5Q95k",
        "outputId": "d15c861f-f2ea-464c-c9e8-38ae9bc3a1a9"
      },
      "source": [
        "get_95_ci(df_filtered_APRDRG_640['AVGCHG'], df_filtered_APRDRG_NOT_640['AVGCHG'])"
      ],
      "execution_count": null,
      "outputs": [
        {
          "output_type": "execute_result",
          "data": {
            "application/vnd.google.colaboratory.intrinsic+json": {
              "type": "string"
            },
            "text/plain": [
              "'The difference in means at the 95% confidence interval (two-tail) is between 647.6013738501757 and 1084.5964125329783.'"
            ]
          },
          "metadata": {
            "tags": []
          },
          "execution_count": 54
        }
      ]
    },
    {
      "cell_type": "markdown",
      "metadata": {
        "id": "QDEsuh-lFM8b"
      },
      "source": [
        "Finally for the sake of comparison, I have added the RACE variables to this hypothesis test. Again remember that our sampled patients are equally distributed by race, since White comprized 97%. To present the result for this assessment, I have grouped the sample into White and not White sample groups (only 15) as shown below. \n",
        "\n",
        "Here we will take the null hypothesis stating that the mean difference of the Average Charges for Whites and not Whites is zero, or they are equal. And the alternate hypothesis states the reverse, i.e they are not equal."
      ]
    },
    {
      "cell_type": "code",
      "metadata": {
        "colab": {
          "base_uri": "https://localhost:8080/"
        },
        "id": "Gcab0UMRMjbr",
        "outputId": "acd0d727-fcd4-4245-ac89-98d2fae46d14"
      },
      "source": [
        "df_filtered_RACE_White = df_filtered.iloc[(df_filtered['RACE'] == 1).values] \n",
        "df_filtered_RACE_White.info()"
      ],
      "execution_count": null,
      "outputs": [
        {
          "output_type": "stream",
          "text": [
            "<class 'pandas.core.frame.DataFrame'>\n",
            "Int64Index: 484 entries, 0 to 499\n",
            "Data columns (total 9 columns):\n",
            " #   Column     Non-Null Count  Dtype  \n",
            "---  ------     --------------  -----  \n",
            " 0   AGE        484 non-null    int64  \n",
            " 1   FEMALE     484 non-null    int64  \n",
            " 2   LOS        484 non-null    int64  \n",
            " 3   RACE       484 non-null    float64\n",
            " 4   TOTCHG     484 non-null    int64  \n",
            " 5   APRDRG     484 non-null    int64  \n",
            " 6   AVGCHG     484 non-null    float64\n",
            " 7   GENDER     484 non-null    object \n",
            " 8   RACE_NAME  484 non-null    object \n",
            "dtypes: float64(2), int64(5), object(2)\n",
            "memory usage: 37.8+ KB\n"
          ],
          "name": "stdout"
        }
      ]
    },
    {
      "cell_type": "code",
      "metadata": {
        "colab": {
          "base_uri": "https://localhost:8080/"
        },
        "id": "naixTDApMw6K",
        "outputId": "b1f896dc-a8a4-44bc-dcb5-6c7d39ee5a5c"
      },
      "source": [
        "df_filtered_RACE_NOT_White = df_filtered.iloc[(df_filtered['RACE'] != 1).values] \n",
        "df_filtered_RACE_NOT_White.info()"
      ],
      "execution_count": null,
      "outputs": [
        {
          "output_type": "stream",
          "text": [
            "<class 'pandas.core.frame.DataFrame'>\n",
            "Int64Index: 15 entries, 24 to 492\n",
            "Data columns (total 9 columns):\n",
            " #   Column     Non-Null Count  Dtype  \n",
            "---  ------     --------------  -----  \n",
            " 0   AGE        15 non-null     int64  \n",
            " 1   FEMALE     15 non-null     int64  \n",
            " 2   LOS        15 non-null     int64  \n",
            " 3   RACE       15 non-null     float64\n",
            " 4   TOTCHG     15 non-null     int64  \n",
            " 5   APRDRG     15 non-null     int64  \n",
            " 6   AVGCHG     15 non-null     float64\n",
            " 7   GENDER     15 non-null     object \n",
            " 8   RACE_NAME  15 non-null     object \n",
            "dtypes: float64(2), int64(5), object(2)\n",
            "memory usage: 1.2+ KB\n"
          ],
          "name": "stdout"
        }
      ]
    },
    {
      "cell_type": "markdown",
      "metadata": {
        "id": "zN3eRiKFGGhF"
      },
      "source": [
        "Inputing the groups into the t-test syntax, showed a p-value that is not significicant at >0.05. So we fail to reject the null hypothesis."
      ]
    },
    {
      "cell_type": "code",
      "metadata": {
        "colab": {
          "base_uri": "https://localhost:8080/"
        },
        "id": "RFAGhIGAM6sj",
        "outputId": "facc1b2a-f369-425a-ed3a-e126cff6efaa"
      },
      "source": [
        "stats.ttest_ind(df_filtered_RACE_White['AVGCHG'], df_filtered_RACE_NOT_White['AVGCHG'])"
      ],
      "execution_count": null,
      "outputs": [
        {
          "output_type": "execute_result",
          "data": {
            "text/plain": [
              "Ttest_indResult(statistic=-1.3563938369569166, pvalue=0.1755897342045011)"
            ]
          },
          "metadata": {
            "tags": []
          },
          "execution_count": 57
        }
      ]
    },
    {
      "cell_type": "markdown",
      "metadata": {
        "id": "sFYtcz5gGjBc"
      },
      "source": [
        "The 95% Confidence interval of the mean difference using the above function shows a wide gap including 0, meaning that there is a chance for the means to be equal (not different)."
      ]
    },
    {
      "cell_type": "code",
      "metadata": {
        "colab": {
          "base_uri": "https://localhost:8080/",
          "height": 35
        },
        "id": "E2YbwyD2RSXl",
        "outputId": "6990eb4d-ed31-4d37-99bc-2a9a75ff0b0e"
      },
      "source": [
        "get_95_ci(df_filtered_RACE_White['AVGCHG'], df_filtered_RACE_NOT_White['AVGCHG'])"
      ],
      "execution_count": null,
      "outputs": [
        {
          "output_type": "execute_result",
          "data": {
            "application/vnd.google.colaboratory.intrinsic+json": {
              "type": "string"
            },
            "text/plain": [
              "'The difference in means at the 95% confidence interval (two-tail) is between -653.3238233162635 and 1534.648256338917.'"
            ]
          },
          "metadata": {
            "tags": []
          },
          "execution_count": 58
        }
      ]
    }
  ]
}